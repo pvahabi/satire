{
 "cells": [
  {
   "cell_type": "code",
   "execution_count": 1,
   "metadata": {
    "collapsed": true
   },
   "outputs": [],
   "source": [
    "from __future__ import print_function\n",
    "import sys\n",
    "import os\n",
    "import csv\n",
    "import re\n",
    "import struct\n",
    "import datetime\n",
    "import math\n",
    "import random\n",
    "import scipy\n",
    "import glob\n",
    "import string\n",
    "import numpy as np"
   ]
  },
  {
   "cell_type": "code",
   "execution_count": 2,
   "metadata": {
    "collapsed": false
   },
   "outputs": [
    {
     "name": "stdout",
     "output_type": "stream",
     "text": [
      "Compute IDFs...\n",
      "Compute normalized document lengths...\n",
      "Compute impact scores...\n"
     ]
    }
   ],
   "source": [
    "DOC_COUNT = 25205179\n",
    "AVG_DOC_LEN = 937.252\n",
    "K1 = 0.9\n",
    "B = 0.4\n",
    "\n",
    "terms = {}\n",
    "idf = {}\n",
    "doc_len_norm = {}\n",
    "\n",
    "term_id = 0\n",
    "print('Compute IDFs...')\n",
    "with open('F:\\\\bmitra\\\\data\\\\quant\\\\bhaskar_data_m0708_filtered\\\\bhd_term_stem.txt', mode='r') as reader:\n",
    "    for line in reader:\n",
    "        cols = line.split(' ')\n",
    "        term = cols[1]\n",
    "        df = int(cols[3])\n",
    "        terms[term] = term_id\n",
    "        if df > 0:\n",
    "            idf[term_id] = math.log(DOC_COUNT / df) # IDF implementation from http://www.cs.otago.ac.nz/homepages/andrew/papers/2014-2.pdf\n",
    "        term_id = term_id + 1\n",
    "        \n",
    "print('Compute normalized document lengths...')\n",
    "with open('F:\\\\bmitra\\\\data\\\\quant\\\\bhaskar_data_m0708_filtered\\\\bhd_doc_map.txt', mode='r') as reader:\n",
    "    for line in reader:\n",
    "        cols = line.split(' ')\n",
    "        doc_len_norm[int(cols[0])] = K1 * (1 - B + B * int(cols[2]) / AVG_DOC_LEN)\n",
    "\n",
    "term_id = 0\n",
    "print('Compute impact scores...')\n",
    "with open('F:\\\\bmitra\\\\data\\\\quant\\\\bhaskar_data_m0708_filtered\\\\bhd_term_stats.txt', mode='rb') as reader:\n",
    "    with open('F:\\\\bmitra\\\\data\\\\quant\\\\bhaskar_data_m0708_filtered\\\\bhd_impacts.v2', mode='wb') as writer:\n",
    "        while reader:\n",
    "            size_packed = reader.read(4)\n",
    "            if len(size_packed) == 4:\n",
    "                writer.write(size_packed)\n",
    "                idf_packed = struct.pack('f', idf[term_id])\n",
    "                writer.write(idf_packed)\n",
    "                size = struct.unpack('i', size_packed)\n",
    "                for i in range(size[0]):\n",
    "                    did_packed =  reader.read(4)\n",
    "                    writer.write(did_packed)\n",
    "                    did = struct.unpack('i', did_packed)[0]\n",
    "                    tf = struct.unpack('h', reader.read(2))[0]\n",
    "                    impact = (K1 + 1) * tf / (doc_len_norm[did] + tf)\n",
    "                    impact_packed = struct.pack('f', impact)\n",
    "                    writer.write(impact_packed)\n",
    "            else:\n",
    "                break\n",
    "            term_id = term_id + 1"
   ]
  },
  {
   "cell_type": "code",
   "execution_count": 3,
   "metadata": {
    "collapsed": false
   },
   "outputs": [
    {
     "data": {
      "text/plain": [
       "\"\\nidf_debug = 0\\nterm_id = 0\\nwith open('F:\\\\bmitra\\\\data\\\\quant\\\\bhaskar_data_m0708\\\\bhd_term_stem.txt', mode='r') as reader:\\n    for line in reader:\\n        cols = line.split(' ')\\n        term = cols[1]\\n        df = int(cols[3])\\n        terms[term] = term_id\\n        if df > 0:\\n            idf_debug = math.log(DOC_COUNT / df) # IDF implementation from http://www.cs.otago.ac.nz/homepages/andrew/papers/2014-2.pdf\\n        term_id = term_id + 1\\nprint(term_id)\\nprint(idf_debug)\\nprint(doc_len_norm[25138269])\\nwith open('F:\\\\bmitra\\\\data\\\\quant\\\\bhaskar_data_m0708\\\\bhd_term_stats', mode='rb') as reader:\\n    reader.seek(-12, os.SEEK_END)\\n    print(struct.unpack('i', reader.read(4)))\\n    print(struct.unpack('h', reader.read(2)))\\nwith open('F:\\\\bmitra\\\\data\\\\quant\\\\bhaskar_data_m0708\\\\bhd_td_impacts', mode='rb') as reader:\\n    reader.seek(-16, os.SEEK_END)\\n    print(struct.unpack('i', reader.read(4)))\\n    print(struct.unpack('f', reader.read(4)))\\nprint(idf_debug * (K1 + 1) * 1 / (doc_len_norm[25138269] + 1))\\n\""
      ]
     },
     "execution_count": 3,
     "metadata": {},
     "output_type": "execute_result"
    }
   ],
   "source": [
    "'''\n",
    "idf_debug = 0\n",
    "term_id = 0\n",
    "with open('F:\\\\bmitra\\\\data\\\\quant\\\\bhaskar_data_m0708\\\\bhd_term_stem.txt', mode='r') as reader:\n",
    "    for line in reader:\n",
    "        cols = line.split(' ')\n",
    "        term = cols[1]\n",
    "        df = int(cols[3])\n",
    "        terms[term] = term_id\n",
    "        if df > 0:\n",
    "            idf_debug = math.log(DOC_COUNT / df) # IDF implementation from http://www.cs.otago.ac.nz/homepages/andrew/papers/2014-2.pdf\n",
    "        term_id = term_id + 1\n",
    "print(term_id)\n",
    "print(idf_debug)\n",
    "print(doc_len_norm[25138269])\n",
    "with open('F:\\\\bmitra\\\\data\\\\quant\\\\bhaskar_data_m0708\\\\bhd_term_stats', mode='rb') as reader:\n",
    "    reader.seek(-12, os.SEEK_END)\n",
    "    print(struct.unpack('i', reader.read(4)))\n",
    "    print(struct.unpack('h', reader.read(2)))\n",
    "with open('F:\\\\bmitra\\\\data\\\\quant\\\\bhaskar_data_m0708\\\\bhd_td_impacts', mode='rb') as reader:\n",
    "    reader.seek(-16, os.SEEK_END)\n",
    "    print(struct.unpack('i', reader.read(4)))\n",
    "    print(struct.unpack('f', reader.read(4)))\n",
    "print(idf_debug * (K1 + 1) * 1 / (doc_len_norm[25138269] + 1))\n",
    "'''"
   ]
  }
 ],
 "metadata": {
  "anaconda-cloud": {},
  "kernelspec": {
   "display_name": "Python 3",
   "language": "python",
   "name": "python3"
  },
  "language_info": {
   "codemirror_mode": {
    "name": "ipython",
    "version": 3
   },
   "file_extension": ".py",
   "mimetype": "text/x-python",
   "name": "python",
   "nbconvert_exporter": "python",
   "pygments_lexer": "ipython3",
   "version": "3.6.0"
  }
 },
 "nbformat": 4,
 "nbformat_minor": 0
}
